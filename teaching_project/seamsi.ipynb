{
 "cells": [
  {
   "cell_type": "code",
   "execution_count": 72,
   "metadata": {},
   "outputs": [],
   "source": [
    "import json\n",
    "import time\n",
    "import random"
   ]
  },
  {
   "cell_type": "code",
   "execution_count": 73,
   "metadata": {},
   "outputs": [],
   "source": [
    "with open('seamsi-interpretations.json', encoding='utf8') as f:\n",
    "    SeamsiDict=json.load(f)"
   ]
  },
  {
   "cell_type": "code",
   "execution_count": 74,
   "metadata": {},
   "outputs": [
    {
     "name": "stdout",
     "output_type": "stream",
     "text": [
      "\n",
      "Welcome weary traveller! Please, tell me about yourself...\n",
      "\n",
      "สวัสดีค่ะ คุณ  \n"
     ]
    }
   ],
   "source": [
    "def gatherInfo():\n",
    "    \"\"\"Greet the user and take user input for name.\n",
    "    Return array with name (string).\"\"\"\n",
    "    print('\\nWelcome weary traveller! Please, tell me about yourself...')\n",
    "    # ask for name\n",
    "    userName = input('What shall I call you?  ')\n",
    "    print(f'\\nสวัสดีค่ะ คุณ {userName} ')\n",
    "\n",
    "gatherInfo()"
   ]
  },
  {
   "cell_type": "code",
   "execution_count": null,
   "metadata": {},
   "outputs": [],
   "source": [
    "def processData():\n",
    "    \"\"\"Open Seamsi file and return data as dict.\"\"\"\n",
    "    try:\n",
    "        data = open('seamsi-interpretations.json')\n",
    "    except FileNotFoundError as e:\n",
    "        print('ขอโทษด้วยค่ะ เนื่องจากตอนนี้เกิดปัญหาเกี่ยวกับผลของการเสี่ยงซียมซี กรุณาลองใหม่อีกครั้ง.')\n",
    "        return\n",
    "    else:\n",
    "        SeamsiDict = json.load(data)\n",
    "        return SeamsiDict\n",
    "\n",
    "processData()"
   ]
  },
  {
   "cell_type": "code",
   "execution_count": 76,
   "metadata": {},
   "outputs": [
    {
     "name": "stdout",
     "output_type": "stream",
     "text": [
      "\n",
      "คุณเสี่ยงได้เซียมซีใบที่ 36\n",
      "\n",
      "เซียมซีใบนี้ว่าด้วย ชะตาชีวิตช่วงนี้เข้าสู่โชคลาภ จะมีผู้สูงอายุมาให้โชค มิฉะนั้นจะมีเนื้อคู่พร้อมด้วยทรัพย์สมบัติ การค้าขายไม่มีอุปสรรค เจ็บป่วยจะมีหมอดีมารักษา สรรพสิ่งดังใจหมาย ถ้าเป็นความจะชนะแล\n"
     ]
    }
   ],
   "source": [
    "def getRandomSeamsi():\n",
    "    \"\"\"Return random seamsi from data, type = dict.\"\"\"\n",
    "    seamsiList = SeamsiDict['seamsi_interpretations']\n",
    "    # get a random Seam-si \n",
    "    nums, meaning = random.choice(list(seamsiList.items()))\n",
    "    # meaning = seamsi.values\n",
    "    print(f'\\nคุณเสี่ยงได้เซียมซีใบที่ {nums}\\n')\n",
    "    time.sleep(2)\n",
    "    print(f'เซียมซีใบนี้ว่าด้วย {meaning}')\n",
    "\n",
    "getRandomSeamsi()"
   ]
  },
  {
   "cell_type": "code",
   "execution_count": 78,
   "metadata": {},
   "outputs": [
    {
     "name": "stdout",
     "output_type": "stream",
     "text": [
      "\n",
      "โปรดรอสักครู่ ตอนนี้กำลังเสี่ยงเซียมซีให้คุณอยู่...\n",
      "\n",
      "คุณเสี่ยงได้เซียมซีใบที่ 12\n",
      "\n",
      "เซียมซีใบนี้ว่าด้วย ชะตาชีวิตช่วงนี้ จะได้ลาภยศบริบูรณ์สมประสงค์ ทั้งจะอายุยืนยาว การค้าขายเจริญรุ่งเรือง จะมีเนื้อคู่อันประเสริฐ ทุกสิ่งที่ท่านขอจะสมประสงค์ดีนักแล\n"
     ]
    }
   ],
   "source": [
    "def getseamsi():\n",
    "    print('\\nโปรดรอสักครู่ ตอนนี้กำลังเสี่ยงเซียมซีให้คุณอยู่...')\n",
    "    time.sleep(2)\n",
    "    seamDict = processData()\n",
    "    userseamsi = getRandomSeamsi()\n",
    "    \n",
    "getseamsi()"
   ]
  },
  {
   "cell_type": "code",
   "execution_count": 79,
   "metadata": {},
   "outputs": [
    {
     "name": "stdout",
     "output_type": "stream",
     "text": [
      "\n",
      "คำตอบของคุณคือ ->  uuu\n"
     ]
    }
   ],
   "source": [
    "def check_input(ans):\n",
    "    if  ans.isdigit() == False:\n",
    "        print(f'\\nคำตอบของคุณคือ ->  {ans}')\n",
    "    else:\n",
    "        print('กรุณาใส่คำตอบให้ถูกต้อง')\n",
    "        all_process()\n",
    "\n",
    "check_input('uuu')\n",
    "# check_input('8')\n"
   ]
  },
  {
   "cell_type": "code",
   "execution_count": 81,
   "metadata": {},
   "outputs": [],
   "source": [
    "def all_process():        \n",
    "    gatherInfo()\n",
    "    print('อยากจะลองเสี่ยงเซียมซีมั้ยคะ ? [ y/n ]')\n",
    "    ruready = input('\\nอยากจะลองเสี่ยงเซียมซีมั้ยคะ ? [ y/n ] ->')\n",
    "    check_input(ruready)\n",
    "    while ruready == 'y':           \n",
    "        getseamsi()\n",
    "        # ask whether to run program again or close\n",
    "        print('\\nอยากจะลองเสี่ยงเซียมซีใหม่อีกครั้งมั้ยคะ ? [ y/n ]')\n",
    "        ruready = input('\\nอยากจะลองเสี่ยงเซียมซีใหม่อีกครั้งมั้ยคะ ? [ y/n ] -> ')\n",
    "        check_input(ruready)\n",
    "    print('\\nขอบคุณที่ให้ความสนใจกับบริการสุ่มเซียมซีของเรา ขอให้คุณโชคดี มีความสุข')\n",
    "\n",
    "# all_process()"
   ]
  },
  {
   "cell_type": "code",
   "execution_count": 83,
   "metadata": {},
   "outputs": [
    {
     "name": "stdout",
     "output_type": "stream",
     "text": [
      "\n",
      "Welcome weary traveller! Please, tell me about yourself...\n",
      "\n",
      "สวัสดีค่ะ คุณ y \n",
      "อยากจะลองเสี่ยงเซียมซีมั้ยคะ ? [ y/n ]\n",
      "\n",
      "คำตอบของคุณคือ ->  y\n",
      "\n",
      "โปรดรอสักครู่ ตอนนี้กำลังเสี่ยงเซียมซีให้คุณอยู่...\n",
      "\n",
      "คุณเสี่ยงได้เซียมซีใบที่ 30\n",
      "\n",
      "เซียมซีใบนี้ว่าด้วย ชะตาชีวิตช่วงนี้ไม่สมดังใจหมาย จะเกิดความร้อนใจ เจ็บป่วยไข้หายยาก และอาจจะเสียของรักไป ท่านควรจะหมั่นขอพรจากพระกวนอิมโพธิสัตว์และเทพเจ้าแห่งยา (หั่วท้อเซียงซือ) สิ่งร้ายจะกลายเป็นดี\n",
      "\n",
      "อยากจะลองเสี่ยงเซียมซีใหม่อีกครั้งมั้ยคะ ? [ y/n ]\n",
      "\n",
      "คำตอบของคุณคือ ->  y\n",
      "\n",
      "โปรดรอสักครู่ ตอนนี้กำลังเสี่ยงเซียมซีให้คุณอยู่...\n",
      "\n",
      "คุณเสี่ยงได้เซียมซีใบที่ 5\n",
      "\n",
      "เซียมซีใบนี้ว่าด้วย ชะตาชีวิตช่วงนี้ยังไม่ราบรื่น การงานมีอุปสรรค ท่านจะเจ็บไข้ได้ป่วย ความรักไม่สดชื่น โชคลาภยังไม่มี จงหมั่นไหว้พระ และขอพร สิ่งร้ายก็จะทุเลาลงบ้าง\n",
      "\n",
      "อยากจะลองเสี่ยงเซียมซีใหม่อีกครั้งมั้ยคะ ? [ y/n ]\n",
      "\n",
      "คำตอบของคุณคือ ->  n\n",
      "\n",
      "ขอบคุณที่ให้ความสนใจกับบริการสุ่มเซียมซีของเรา ขอให้คุณโชคดี มีความสุข\n"
     ]
    }
   ],
   "source": [
    "all_process()"
   ]
  }
 ],
 "metadata": {
  "interpreter": {
   "hash": "a63e44fecb2cfd206b96a7faaa521ac0b9ccea503c9d2380122cd62624e2eb99"
  },
  "kernelspec": {
   "display_name": "Python 3.8.12 ('base')",
   "language": "python",
   "name": "python3"
  },
  "language_info": {
   "codemirror_mode": {
    "name": "ipython",
    "version": 3
   },
   "file_extension": ".py",
   "mimetype": "text/x-python",
   "name": "python",
   "nbconvert_exporter": "python",
   "pygments_lexer": "ipython3",
   "version": "3.8.12"
  },
  "orig_nbformat": 4
 },
 "nbformat": 4,
 "nbformat_minor": 2
}
