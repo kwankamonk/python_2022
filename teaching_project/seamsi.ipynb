{
 "cells": [
  {
   "cell_type": "markdown",
   "metadata": {},
   "source": [
    "# 2602348: PROG DES\n",
    "\n",
    "## Student ID: `6241020026`\n",
    "\n",
    "## Student Name (Thai): `ขวัญกมล กิตติอุดม`\n",
    "\n",
    "[My Project's Github](https://github.com/kwankamonk/python_2022/tree/main/teaching_project)"
   ]
  },
  {
   "cell_type": "code",
   "execution_count": null,
   "metadata": {},
   "outputs": [],
   "source": [
    "import json\n",
    "import time\n",
    "import random"
   ]
  },
  {
   "cell_type": "code",
   "execution_count": null,
   "metadata": {},
   "outputs": [],
   "source": [
    "with open('seamsi-interpretations.json', encoding='utf8') as f:\n",
    "    SeamsiDict=json.load(f)\n",
    "    print(type(SeamsiDict))"
   ]
  },
  {
   "cell_type": "code",
   "execution_count": null,
   "metadata": {},
   "outputs": [],
   "source": [
    "\"\"\"Open Seamsi file and return data as dict.\"\"\"\n",
    "\n",
    "def processData():\n",
    "    try:\n",
    "        data = open('seamsi-interpretations.json')\n",
    "    except FileNotFoundError as e:\n",
    "        print('ขอโทษด้วยค่ะ เนื่องจากตอนนี้เกิดปัญหาเกี่ยวกับผลของการเสี่ยงเซียมซี กรุณาลองใหม่อีกครั้ง.')\n",
    "        return\n",
    "    else:\n",
    "        SeamsiDict = json.load(data)\n",
    "        return SeamsiDict\n",
    "\n",
    "processData()"
   ]
  },
  {
   "cell_type": "code",
   "execution_count": null,
   "metadata": {},
   "outputs": [],
   "source": [
    "\"\"\"Greet the user and take user input for name.\n",
    "    Return array with name (string).\"\"\"\n",
    "\n",
    "def gatherInfo():\n",
    "    print('\\nสวัสดีและยินดีต้อนรับสำหรับผู้สนใจเสี่ยงเซียมซี! ขออนุญาตสอบถามเกี่ยวกับตัวท่าน...')\n",
    "    userName = input('ท่านมีชื่อว่าอะไร ?')\n",
    "    print(f'\\nสวัสดี คุณ {userName} ')\n",
    "\n",
    "gatherInfo()"
   ]
  },
  {
   "cell_type": "code",
   "execution_count": null,
   "metadata": {},
   "outputs": [],
   "source": [
    "\"\"\"Return random seamsi from data, type = dict.\"\"\"\n",
    "\n",
    "def getRandomSeamsi():\n",
    "    seamsiList = SeamsiDict['seamsi_interpretations']\n",
    "    # get a random Seam-si \n",
    "    nums, meaning = random.choice(list(seamsiList.items()))\n",
    "    # meaning = seamsi.values\n",
    "    print(f'\\nคุณเสี่ยงได้เซียมซีใบที่ {nums}\\n')\n",
    "    time.sleep(2)\n",
    "    print(f'เซียมซีใบนี้ว่าด้วย {meaning}')\n",
    "\n",
    "getRandomSeamsi()"
   ]
  },
  {
   "cell_type": "code",
   "execution_count": null,
   "metadata": {},
   "outputs": [],
   "source": [
    "def getseamsi():\n",
    "    print('\\nโปรดรอสักครู่ ตอนนี้กำลังเสี่ยงเซียมซีให้คุณอยู่...')\n",
    "    time.sleep(2)\n",
    "    seamDict = processData()\n",
    "    userseamsi = getRandomSeamsi()\n",
    "    \n",
    "getseamsi()"
   ]
  },
  {
   "cell_type": "code",
   "execution_count": null,
   "metadata": {},
   "outputs": [],
   "source": [
    "\"\"\"Check the type of input\"\"\"\n",
    "\n",
    "def check_input(ans):\n",
    "    if  ans.isdigit() == False:\n",
    "        print(f'\\nคำตอบของคุณคือ ->  {ans}')\n",
    "    else:\n",
    "        print('กรุณาใส่คำตอบให้ถูกต้อง')\n",
    "        all_process()\n",
    "\n",
    "# check_input('y')\n",
    "check_input('8')\n"
   ]
  },
  {
   "cell_type": "code",
   "execution_count": null,
   "metadata": {},
   "outputs": [],
   "source": [
    "def all_process():        \n",
    "    gatherInfo()\n",
    "    print('\\nท่านอยากจะลองเสี่ยงเซียมซีมั้ยคะ ? [ y/n ]')\n",
    "    ruready = input('\\nท่านอยากจะลองเสี่ยงเซียมซีมั้ยคะ ? [ y/n ] ->')\n",
    "    check_input(ruready)\n",
    "    while ruready == 'y':           \n",
    "        getseamsi()\n",
    "        # ask whether to run program again or close\n",
    "        print('\\nท่านอยากจะลองเสี่ยงเซียมซีใหม่อีกครั้งมั้ยคะ ? [ y/n ]')\n",
    "        ruready = input('\\nท่านอยากจะลองเสี่ยงเซียมซีใหม่อีกครั้งมั้ยคะ ? [ y/n ] -> ')\n",
    "        check_input(ruready)\n",
    "    print('\\nขอบคุณที่ให้ความสนใจกับบริการสุ่มเซียมซีของเรา ขอให้ท่านโชคดีและมีความสุข')\n",
    "\n",
    "# all_process()"
   ]
  },
  {
   "cell_type": "code",
   "execution_count": null,
   "metadata": {},
   "outputs": [],
   "source": [
    "all_process()"
   ]
  }
 ],
 "metadata": {
  "interpreter": {
   "hash": "a63e44fecb2cfd206b96a7faaa521ac0b9ccea503c9d2380122cd62624e2eb99"
  },
  "kernelspec": {
   "display_name": "Python 3.8.12 ('base')",
   "language": "python",
   "name": "python3"
  },
  "language_info": {
   "codemirror_mode": {
    "name": "ipython",
    "version": 3
   },
   "file_extension": ".py",
   "mimetype": "text/x-python",
   "name": "python",
   "nbconvert_exporter": "python",
   "pygments_lexer": "ipython3",
   "version": "3.8.12"
  },
  "orig_nbformat": 4
 },
 "nbformat": 4,
 "nbformat_minor": 2
}
